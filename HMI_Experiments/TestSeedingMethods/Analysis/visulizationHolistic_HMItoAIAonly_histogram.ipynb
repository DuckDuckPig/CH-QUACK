{
 "cells": [
  {
   "cell_type": "code",
   "execution_count": 1,
   "id": "55c0b0b9",
   "metadata": {},
   "outputs": [],
   "source": [
    "# Import Libaries and Tools\n",
    "import glob\n",
    "import numpy as np\n",
    "import matplotlib.pyplot as plt\n",
    "import os"
   ]
  },
  {
   "cell_type": "code",
   "execution_count": null,
   "id": "cfb5a395",
   "metadata": {},
   "outputs": [],
   "source": [
    "# Collection of Results\n",
    "datasetfiles = sorted(glob.glob('Results/CR*HMItoStandardStats.npz'))"
   ]
  },
  {
   "cell_type": "code",
   "execution_count": null,
   "id": "2cdcf335",
   "metadata": {
    "scrolled": false
   },
   "outputs": [],
   "source": [
    "# Open Data Summary\n",
    "for i in range(len(datasetfiles)):\n",
    "    \n",
    "    # open and retreave data\n",
    "    data = np.load(datasetfiles[i], allow_pickle=True)\n",
    "    lst = data.files\n",
    "    \n",
    "    # Get list of stats\n",
    "    IOU  = data[lst[0]]\n",
    "    SSIM = data[lst[1]]\n",
    "    GCE  = data[lst[2]]\n",
    "    LCE  = data[lst[3]]\n",
    "    \n",
    "    # Visulize\n",
    "    plt.figure(figsize=[15,15])\n",
    "    title = 'Intersection Over Union for ' + os.path.basename(datasetfiles[i].split('.')[-3])\n",
    "    plt.rcParams.update({'font.size': 30})\n",
    "    plt.title(title)\n",
    "    plt.hist(IOU,255)\n",
    "    plt.xlabel('IOU')\n",
    "    plt.ylabel('number of observations')\n",
    "    plt.grid()\n",
    "    plt.show()"
   ]
  }
 ],
 "metadata": {
  "kernelspec": {
   "display_name": "Python 3 (ipykernel)",
   "language": "python",
   "name": "python3"
  },
  "language_info": {
   "codemirror_mode": {
    "name": "ipython",
    "version": 3
   },
   "file_extension": ".py",
   "mimetype": "text/x-python",
   "name": "python",
   "nbconvert_exporter": "python",
   "pygments_lexer": "ipython3",
   "version": "3.10.10"
  }
 },
 "nbformat": 4,
 "nbformat_minor": 5
}
