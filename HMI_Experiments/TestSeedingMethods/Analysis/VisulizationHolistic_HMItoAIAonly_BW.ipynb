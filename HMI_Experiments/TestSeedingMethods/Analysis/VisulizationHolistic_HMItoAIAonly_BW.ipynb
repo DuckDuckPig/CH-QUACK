{
 "cells": [
  {
   "cell_type": "code",
   "execution_count": 1,
   "id": "d73f049c",
   "metadata": {},
   "outputs": [],
   "source": [
    "# Import Libaries and Tools\n",
    "import glob\n",
    "import numpy as np\n",
    "import matplotlib.pyplot as plt\n",
    "import os"
   ]
  },
  {
   "cell_type": "code",
   "execution_count": null,
   "id": "6545719c",
   "metadata": {},
   "outputs": [],
   "source": [
    "# Collection of Results\n",
    "datasetfiles = sorted(glob.glob('Results/CR*HMItoStandardStats.npz'))"
   ]
  },
  {
   "cell_type": "code",
   "execution_count": null,
   "id": "9fc69492",
   "metadata": {
    "scrolled": false
   },
   "outputs": [],
   "source": [
    "# Open Data Summary\n",
    "for i in range(len(datasetfiles)):\n",
    "    \n",
    "    # open and retreave data\n",
    "    data = np.load(datasetfiles[i], allow_pickle=True)\n",
    "    lst = data.files\n",
    "    \n",
    "    # Get list of stats\n",
    "    IOU  = data[lst[0]]\n",
    "    SSIM = data[lst[1]]\n",
    "    GCE  = data[lst[2]]\n",
    "    LCE  = data[lst[3]]\n",
    "    \n",
    "    # Visulize\n",
    "    plt.figure(figsize=[15,15])\n",
    "    title = 'Intersection Over Union for ' + os.path.basename(datasetfiles[i].split('.')[-3])\n",
    "    plt.rcParams.update({'font.size': 30})\n",
    "    plt.title(title)\n",
    "    plt.boxplot(IOU)\n",
    "    plt.ylabel('IOU')\n",
    "    plt.axis([0.5,1.5,-0.05,1.05])\n",
    "    plt.grid()\n",
    "    plt.show()\n",
    "    \n",
    "    #plt.figure(figsize=[15,15])\n",
    "    #title = 'Structural Similiarty for ' + os.path.basename(datasetfiles[i].split('.')[-3])\n",
    "    #plt.rcParams.update({'font.size': 30})\n",
    "    #plt.title(title)\n",
    "    #plt.boxplot(SSIM)\n",
    "    #plt.axis([0.5,1.5,-0.05,1.05])\n",
    "    #plt.grid()\n",
    "    #plt.show()\n",
    "    \n",
    "    #plt.figure(figsize=[15,15])\n",
    "    #title = 'Global Consistance Error for ' + os.path.basename(datasetfiles[i].split('.')[-3])\n",
    "    #plt.rcParams.update({'font.size': 30})\n",
    "    #plt.title(title)\n",
    "    #plt.boxplot(GCE)\n",
    "    #plt.axis([0.5,1.5,-0.05,1.05])\n",
    "    #plt.grid()\n",
    "    #plt.show()\n",
    "    \n",
    "    #plt.figure(figsize=[15,15])\n",
    "    #title = 'Local Consistance Error for ' + os.path.basename(datasetfiles[i].split('.')[-3])\n",
    "    #plt.rcParams.update({'font.size': 30})\n",
    "    #plt.title(title)\n",
    "    #plt.boxplot(LCE)\n",
    "    #plt.axis([0.5,1.5,-0.05,1.05])\n",
    "    #plt.grid()\n",
    "    #plt.show()"
   ]
  }
 ],
 "metadata": {
  "kernelspec": {
   "display_name": "Python 3 (ipykernel)",
   "language": "python",
   "name": "python3"
  },
  "language_info": {
   "codemirror_mode": {
    "name": "ipython",
    "version": 3
   },
   "file_extension": ".py",
   "mimetype": "text/x-python",
   "name": "python",
   "nbconvert_exporter": "python",
   "pygments_lexer": "ipython3",
   "version": "3.10.10"
  }
 },
 "nbformat": 4,
 "nbformat_minor": 5
}
