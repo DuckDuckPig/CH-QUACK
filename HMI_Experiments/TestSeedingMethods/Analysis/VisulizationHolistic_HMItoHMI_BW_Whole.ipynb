{
 "cells": [
  {
   "cell_type": "code",
   "execution_count": 1,
   "id": "ee3ea3b6",
   "metadata": {},
   "outputs": [],
   "source": [
    "# Import Libaries and Tools\n",
    "import glob\n",
    "import numpy as np\n",
    "import matplotlib.pyplot as plt\n",
    "import os\n",
    "\n",
    "ROOT_DIR = os.path.abspath(\"../../../\")"
   ]
  },
  {
   "cell_type": "code",
   "execution_count": null,
   "id": "a06bf832",
   "metadata": {},
   "outputs": [],
   "source": [
    "# Collection of Results\n",
    "datasetfiles = sorted(glob.glob('Results/CR*HMItypeStats.npz'))"
   ]
  },
  {
   "cell_type": "code",
   "execution_count": null,
   "id": "2fee8dba",
   "metadata": {},
   "outputs": [],
   "source": [
    "# Open Data Summary\n",
    "IOU  = {}\n",
    "SSIM = {}\n",
    "GCE  = {}\n",
    "LCE  = {}\n",
    "\n",
    "for i in range(len(datasetfiles)):\n",
    "    \n",
    "    # open and retreave data\n",
    "    data = np.load(datasetfiles[i], allow_pickle=True)\n",
    "    lst = data.files\n",
    "    \n",
    "    IOU[os.path.basename(datasetfiles[i])[:6]]  = data[lst[0]]\n",
    "    SSIM[os.path.basename(datasetfiles[i])[:6]] = data[lst[1]]\n",
    "    GCE[os.path.basename(datasetfiles[i])[:6]]  = data[lst[2]]\n",
    "    LCE[os.path.basename(datasetfiles[i])[:6]]  = data[lst[3]]"
   ]
  },
  {
   "cell_type": "code",
   "execution_count": null,
   "id": "d0f64783",
   "metadata": {},
   "outputs": [],
   "source": [
    "# Ensure Folder Exists\n",
    "saveDirectory = '/Figures/TestQUACKpipeline/'\n",
    "saveDirectory = ROOT_DIR + saveDirectory\n",
    "\n",
    "if not os.path.exists(saveDirectory):\n",
    "    os.makedirs(saveDirectory)"
   ]
  },
  {
   "cell_type": "code",
   "execution_count": null,
   "id": "1d7857d1",
   "metadata": {
    "scrolled": false
   },
   "outputs": [],
   "source": [
    "x = np.arange(len(datasetfiles)) + 1\n",
    "\n",
    "plt.figure(figsize=[30,15])\n",
    "title = 'Intersection Over Union'\n",
    "plt.rcParams.update({'font.size': 30})\n",
    "plt.title(title)\n",
    "plt.boxplot(IOU.values())\n",
    "plt.xticks(x,IOU.keys())\n",
    "plt.grid()\n",
    "plt.xlabel('CR')\n",
    "plt.ylabel('IOU')\n",
    "plt.ylim([-0.05,1.05])\n",
    "title = saveDirectory + 'IOU_HMI_Box.eps'\n",
    "plt.savefig(title)\n",
    "plt.show()\n",
    "\n",
    "for i in range(len(IOU.keys())):\n",
    "    print('mean:', np.mean(IOU[list(IOU.keys())[i]]), 'Median:',np.median(IOU[list(IOU.keys())[i]]))\n",
    "    \n",
    "plt.figure(figsize=[30,15])\n",
    "title = 'Structral Similarity'\n",
    "plt.rcParams.update({'font.size': 30})\n",
    "plt.title(title)\n",
    "plt.boxplot(SSIM.values())\n",
    "plt.xticks(x,SSIM.keys())\n",
    "plt.grid()\n",
    "plt.xlabel('CR')\n",
    "plt.ylabel('SSIM')\n",
    "title = saveDirectory + 'SSIM_HMI_Box.eps'\n",
    "plt.savefig(title)\n",
    "plt.show()\n",
    "\n",
    "for i in range(len(SSIM.keys())):\n",
    "    print('mean:', np.mean(SSIM[list(SSIM.keys())[i]]), 'Median:',np.median(SSIM[list(SSIM.keys())[i]]))\n",
    "    \n",
    "    plt.figure(figsize=[30,15])\n",
    "title = 'Global Consistancy Error'\n",
    "plt.rcParams.update({'font.size': 30})\n",
    "plt.title(title)\n",
    "plt.boxplot(GCE.values())\n",
    "plt.xticks(x,GCE.keys())\n",
    "plt.grid()\n",
    "plt.xlabel('CR')\n",
    "plt.ylabel('GCE')\n",
    "title = saveDirectory + 'GCE_HMI_Box.eps'\n",
    "plt.savefig(title)\n",
    "plt.show()\n",
    "\n",
    "for i in range(len(GCE.keys())):\n",
    "    print('mean:', np.mean(GCE[list(GCE.keys())[i]]), 'Median:',np.median(GCE[list(GCE.keys())[i]]))\n",
    "    \n",
    "plt.figure(figsize=[30,15])\n",
    "title = 'Local Consistancy Error'\n",
    "plt.rcParams.update({'font.size': 30})\n",
    "plt.title(title)\n",
    "plt.boxplot(LCE.values())\n",
    "plt.xticks(x,LCE.keys())\n",
    "plt.grid()\n",
    "plt.xlabel('CR')\n",
    "plt.ylabel('LCE')\n",
    "title = saveDirectory + 'LCE_HMI_Box.eps'\n",
    "plt.savefig(title)\n",
    "plt.show()\n",
    "\n",
    "for i in range(len(LCE.keys())):\n",
    "    print('mean:', np.mean(LCE[list(LCE.keys())[i]]), 'Median:',np.median(LCE[list(LCE.keys())[i]]))"
   ]
  }
 ],
 "metadata": {
  "kernelspec": {
   "display_name": "Python 3 (ipykernel)",
   "language": "python",
   "name": "python3"
  },
  "language_info": {
   "codemirror_mode": {
    "name": "ipython",
    "version": 3
   },
   "file_extension": ".py",
   "mimetype": "text/x-python",
   "name": "python",
   "nbconvert_exporter": "python",
   "pygments_lexer": "ipython3",
   "version": "3.10.10"
  }
 },
 "nbformat": 4,
 "nbformat_minor": 5
}
