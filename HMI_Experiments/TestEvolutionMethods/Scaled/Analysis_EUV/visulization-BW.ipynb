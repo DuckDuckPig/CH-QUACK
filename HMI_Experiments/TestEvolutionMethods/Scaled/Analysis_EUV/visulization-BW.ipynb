{
 "cells": [
  {
   "cell_type": "code",
   "execution_count": 1,
   "id": "0be3acc5",
   "metadata": {},
   "outputs": [],
   "source": [
    "# Import Libaries and Tools\n",
    "import os\n",
    "import glob\n",
    "import numpy as np\n",
    "import matplotlib.pyplot as plt\n",
    "\n",
    "plt.rcParams.update({'font.size': 30})\n",
    "\n",
    "ROOT_DIR = os.path.abspath(\"../../../../\")"
   ]
  },
  {
   "cell_type": "code",
   "execution_count": null,
   "id": "0c085147",
   "metadata": {},
   "outputs": [],
   "source": [
    "# Key Varibles\n",
    "magMethod = 'Uni' # 'FluxImb' 'Homogentiy' 'Skew' "
   ]
  },
  {
   "cell_type": "code",
   "execution_count": null,
   "id": "0a2083db",
   "metadata": {},
   "outputs": [],
   "source": [
    "# Collection of Results\n",
    "datasetfiles = sorted(glob.glob('Results/CR*.csv.' + magMethod + '.MagToEUV.npz'))"
   ]
  },
  {
   "cell_type": "code",
   "execution_count": null,
   "id": "31f00803",
   "metadata": {},
   "outputs": [],
   "source": [
    "# Open Data Summary\n",
    "IOU  = {}\n",
    "SSIM = {}\n",
    "GCE  = {}\n",
    "LCE  = {}\n",
    "\n",
    "for i in range(len(datasetfiles)):\n",
    "    \n",
    "    # open and retreave data\n",
    "    data = np.load(datasetfiles[i], allow_pickle=True)\n",
    "    lst = data.files\n",
    "    \n",
    "    IOU[os.path.basename(datasetfiles[i])[:6]]  = data[lst[0]]\n",
    "    SSIM[os.path.basename(datasetfiles[i])[:6]] = data[lst[1]]\n",
    "    GCE[os.path.basename(datasetfiles[i])[:6]]  = data[lst[2]]\n",
    "    LCE[os.path.basename(datasetfiles[i])[:6]]  = data[lst[3]]"
   ]
  },
  {
   "cell_type": "code",
   "execution_count": null,
   "id": "9afa53c6",
   "metadata": {},
   "outputs": [],
   "source": [
    "# Ensure Folder Exists\n",
    "saveDirectory = '/Figures/TestEvolutionMethods/' + magMethod + '/'\n",
    "saveDirectory = ROOT_DIR + saveDirectory\n",
    "\n",
    "if not os.path.exists(saveDirectory):\n",
    "    os.makedirs(saveDirectory)"
   ]
  },
  {
   "cell_type": "code",
   "execution_count": null,
   "id": "cd0ead3c",
   "metadata": {},
   "outputs": [],
   "source": [
    "x = np.arange(len(datasetfiles)) + 1\n",
    "\n",
    "plt.figure(figsize=[15,15])\n",
    "title = 'Intersection Over Union between\\nACWE and QUACK'\n",
    "plt.title(title)\n",
    "plt.boxplot(IOU.values())\n",
    "plt.xticks(x,IOU.keys())\n",
    "plt.grid()\n",
    "plt.ylim([-0.05,1.05])\n",
    "title = saveDirectory + 'IOU_BoxQUACK.eps'\n",
    "plt.savefig(title)\n",
    "plt.show()\n",
    "\n",
    "for i in range(len(IOU.keys())):\n",
    "    print('mean:', np.mean(IOU[list(IOU.keys())[i]]), 'Median:',np.median(IOU[list(IOU.keys())[i]]))"
   ]
  },
  {
   "cell_type": "code",
   "execution_count": null,
   "id": "b829ce6d",
   "metadata": {},
   "outputs": [],
   "source": [
    "plt.figure(figsize=[15,15])\n",
    "title = 'Structral Similarity between\\nACWE and QUACK'\n",
    "plt.title(title)\n",
    "plt.boxplot(SSIM.values())\n",
    "plt.xticks(x,SSIM.keys())\n",
    "plt.grid()\n",
    "title = saveDirectory + 'SSIM_BoxQUACK.eps'\n",
    "plt.savefig(title)\n",
    "plt.show()"
   ]
  },
  {
   "cell_type": "code",
   "execution_count": null,
   "id": "6ce63b9b",
   "metadata": {},
   "outputs": [],
   "source": [
    "plt.figure(figsize=[15,15])\n",
    "title = 'Global Consistancy between\\nACWE and QUACK'\n",
    "plt.title(title)\n",
    "plt.boxplot(GCE.values())\n",
    "plt.xticks(x,GCE.keys())\n",
    "plt.grid()\n",
    "title = saveDirectory + 'GCE_BoxQUACK.eps'\n",
    "plt.savefig(title)\n",
    "plt.show()"
   ]
  },
  {
   "cell_type": "code",
   "execution_count": null,
   "id": "653450a2",
   "metadata": {},
   "outputs": [],
   "source": [
    "plt.figure(figsize=[15,15])\n",
    "title = 'Local Consistancy between\\nACWE and QUACK'\n",
    "plt.title(title)\n",
    "plt.boxplot(LCE.values())\n",
    "plt.xticks(x,LCE.keys())\n",
    "plt.grid()\n",
    "title = saveDirectory + 'LCE_BoxQUACK.eps'\n",
    "plt.savefig(title)\n",
    "plt.show()"
   ]
  }
 ],
 "metadata": {
  "kernelspec": {
   "display_name": "Python 3 (ipykernel)",
   "language": "python",
   "name": "python3"
  },
  "language_info": {
   "codemirror_mode": {
    "name": "ipython",
    "version": 3
   },
   "file_extension": ".py",
   "mimetype": "text/x-python",
   "name": "python",
   "nbconvert_exporter": "python",
   "pygments_lexer": "ipython3",
   "version": "3.10.10"
  }
 },
 "nbformat": 4,
 "nbformat_minor": 5
}
