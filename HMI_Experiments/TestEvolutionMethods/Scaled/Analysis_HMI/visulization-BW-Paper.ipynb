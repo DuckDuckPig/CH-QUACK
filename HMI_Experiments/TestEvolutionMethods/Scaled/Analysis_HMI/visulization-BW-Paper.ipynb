{
 "cells": [
  {
   "cell_type": "code",
   "execution_count": 1,
   "id": "44b9e069",
   "metadata": {},
   "outputs": [],
   "source": [
    "# Import Libaries and Tools\n",
    "import os\n",
    "import glob\n",
    "import numpy as np\n",
    "import matplotlib.pyplot as plt\n",
    "\n",
    "plt.rcParams.update({'font.size': 30})\n",
    "\n",
    "ROOT_DIR = os.path.abspath(\"../../../../\")"
   ]
  },
  {
   "cell_type": "code",
   "execution_count": null,
   "id": "b894baed",
   "metadata": {},
   "outputs": [],
   "source": [
    "# Key Varibles\n",
    "magMethod = 'Uni' # 'FluxImb' 'Homogentiy' 'Skew' "
   ]
  },
  {
   "cell_type": "code",
   "execution_count": null,
   "id": "f1e49e13",
   "metadata": {},
   "outputs": [],
   "source": [
    "# Collection of Results\n",
    "datasetfiles = sorted(glob.glob('Results/CR*.csv.' + magMethod + '.ScaleStats.npz'))"
   ]
  },
  {
   "cell_type": "code",
   "execution_count": null,
   "id": "01bddb02",
   "metadata": {},
   "outputs": [],
   "source": [
    "# Open Data Summary\n",
    "for i in range(len(datasetfiles)-1):\n",
    "    \n",
    "    # open and retreave data\n",
    "    data = np.load(datasetfiles[i], allow_pickle=True)\n",
    "    lst = data.files\n",
    "    \n",
    "    # Get inital list of stats\n",
    "    if i == 0:\n",
    "        alphas = data[lst[0]]\n",
    "        IOU    = data[lst[1]]\n",
    "        SSIM   = data[lst[2]]\n",
    "        GCE    = data[lst[3]]\n",
    "        LCE    = data[lst[4]]\n",
    "        \n",
    "        header = 'CRs' + os.path.basename(datasetfiles[i])[2:6] + '-'\n",
    "        \n",
    "    # Get subsequent list of stats\n",
    "    else:\n",
    "        alphas = np.vstack([alphas , data[lst[0]]])\n",
    "        IOU    = np.vstack([IOU    , data[lst[1]]])\n",
    "        SSIM   = np.vstack([SSIM   , data[lst[2]]])\n",
    "        GCE    = np.vstack([GCE    , data[lst[3]]])\n",
    "        LCE    = np.vstack([LCE    , data[lst[4]]])\n",
    "        \n",
    "header = header + os.path.basename(datasetfiles[i])[2:6]\n",
    "        \n",
    "# open and retreave data\n",
    "data = np.load(datasetfiles[-1], allow_pickle=True)\n",
    "lst = data.files\n",
    "    \n",
    "# Get inital list of stats\n",
    "alphasfinal = data[lst[0]]\n",
    "IOUfinal    = data[lst[1]]\n",
    "SSIMfinal   = data[lst[2]]\n",
    "GCEfinal    = data[lst[3]]\n",
    "LCEfinal    = data[lst[4]]"
   ]
  },
  {
   "cell_type": "code",
   "execution_count": null,
   "id": "891b429f",
   "metadata": {},
   "outputs": [],
   "source": [
    "# File Checks\n",
    "\n",
    "print('Number of Entries: ',len(alphas))\n",
    "print()\n",
    "errorEntry = np.where(alphas!=0.3)[0]\n",
    "print('List of Entries where alpha paramter was adjusted')\n",
    "print(errorEntry)"
   ]
  },
  {
   "cell_type": "code",
   "execution_count": null,
   "id": "c09887cf",
   "metadata": {},
   "outputs": [],
   "source": [
    "# Establish Lables\n",
    "\n",
    "# Upscale Methods\n",
    "upscale = ['Nearest-neighbor','Bi-linear','Bi-quadratic','Bi-cubic','Bi-quartic','Bi-quintic']\n",
    "\n",
    "# Scale Methods\n",
    "keysFormated = ['Eighth Scale\\n'r'($512\\times512$)']"
   ]
  },
  {
   "cell_type": "code",
   "execution_count": null,
   "id": "f80902b5",
   "metadata": {},
   "outputs": [],
   "source": [
    "# Ensure Folder Exists\n",
    "saveDirectory = '/Figures/MagScaleConstancy/' + magMethod + '/'\n",
    "saveDirectory = ROOT_DIR + saveDirectory\n",
    "\n",
    "if not os.path.exists(saveDirectory):\n",
    "    os.makedirs(saveDirectory)"
   ]
  },
  {
   "cell_type": "code",
   "execution_count": null,
   "id": "4f3ccdcd",
   "metadata": {},
   "outputs": [],
   "source": [
    "# Combine into Dictionaries\n",
    "alphas8 = {header                                 : alphas,\n",
    "           os.path.basename(datasetfiles[-1])[:6] : alphas}\n",
    "IOU8    = {header                                 : IOU[:,0,1].flatten(),\n",
    "           os.path.basename(datasetfiles[-1])[:6] : IOUfinal[:,0,:].flatten()}\n",
    "SSIM8   = {header                                 : SSIM[:,0,1].flatten(),\n",
    "           os.path.basename(datasetfiles[-1])[:6] : SSIMfinal[:,0,:].flatten()}\n",
    "GCE8    = {header                                 : GCE[:,0,1].flatten(),\n",
    "           os.path.basename(datasetfiles[-1])[:6] : GCEfinal[:,0,:].flatten()}\n",
    "LCE8    = {header                                 : LCE[:,0,1].flatten(),\n",
    "           os.path.basename(datasetfiles[-1])[:6] : LCEfinal[:,0,:].flatten()}"
   ]
  },
  {
   "cell_type": "code",
   "execution_count": null,
   "id": "d5f5dfa6",
   "metadata": {},
   "outputs": [],
   "source": [
    "# Plots for 1/8th scale\n",
    "\n",
    "x = np.arange(len(IOU8.keys())) + 1\n",
    "\n",
    "# Plot and save results - IOU\n",
    "plt.figure(figsize=[15,15])\n",
    "title = 'IOU for bi-linear interpolation over eighth scale'\n",
    "plt.rcParams.update({'font.size': 30})\n",
    "plt.title(title)\n",
    "plt.boxplot(IOU8.values())\n",
    "plt.xticks(x,IOU8.keys())\n",
    "plt.ylabel('IOU')\n",
    "plt.grid()\n",
    "title = saveDirectory + 'IOU_Box_allData.8.eps'\n",
    "plt.savefig(title)\n",
    "plt.show()"
   ]
  },
  {
   "cell_type": "code",
   "execution_count": null,
   "id": "136fd0a0",
   "metadata": {},
   "outputs": [],
   "source": [
    "# Plots for 1/8th scale\n",
    "\n",
    "# Plot and save results - SSIM\n",
    "plt.figure(figsize=[15,15])\n",
    "title = 'SSIM for bi-linear interpolation over eighth scale'\n",
    "plt.rcParams.update({'font.size': 30})\n",
    "plt.title(title)\n",
    "plt.boxplot(SSIM8.values())\n",
    "plt.xticks(x,SSIM8.keys())\n",
    "plt.ylabel('SSIM')\n",
    "plt.grid()\n",
    "title = saveDirectory + 'SSIM_Box_allData.8.eps'\n",
    "plt.savefig(title)\n",
    "plt.show()"
   ]
  },
  {
   "cell_type": "code",
   "execution_count": null,
   "id": "7593a603",
   "metadata": {},
   "outputs": [],
   "source": [
    "# Plots for 1/8th scale\n",
    "\n",
    "# Plot and save results - GCE\n",
    "plt.figure(figsize=[15,15])\n",
    "title = 'GCE for bi-linear interpolation over eighth scale'\n",
    "plt.rcParams.update({'font.size': 30})\n",
    "plt.title(title)\n",
    "plt.boxplot(GCE8.values())\n",
    "plt.xticks(x,GCE8.keys())\n",
    "plt.ylabel('GCE')\n",
    "plt.grid()\n",
    "title = saveDirectory + 'GCE_Box_allData.8.eps'\n",
    "plt.savefig(title)\n",
    "plt.show()"
   ]
  },
  {
   "cell_type": "code",
   "execution_count": null,
   "id": "cb22dd52",
   "metadata": {},
   "outputs": [],
   "source": [
    "# Plots for 1/8th scale\n",
    "\n",
    "# Plot and save results - LCE\n",
    "plt.figure(figsize=[15,15])\n",
    "title = 'LCE for bi-linear interpolation over eighth scale'\n",
    "plt.rcParams.update({'font.size': 30})\n",
    "plt.title(title)\n",
    "plt.boxplot(LCE8.values())\n",
    "plt.xticks(x,LCE8.keys())\n",
    "plt.ylabel('LCE')\n",
    "plt.grid()\n",
    "title = saveDirectory + 'LCE_Box_allData.8.eps'\n",
    "plt.savefig(title)\n",
    "plt.show()"
   ]
  },
  {
   "cell_type": "code",
   "execution_count": null,
   "id": "6c6dba9f",
   "metadata": {},
   "outputs": [],
   "source": [
    "# Calculate Stats for full dataset\n",
    "meanIOUfull  = np.nanmean(IOU,axis=0)\n",
    "stdIOUfull   = np.nanstd(IOU,axis=0)\n",
    "meanSSIMfull = np.nanmean(SSIM,axis=0)\n",
    "stdSSIMfull  = np.nanstd(SSIM,axis=0)\n",
    "meanGCEfull  = np.nanmean(GCE,axis=0)\n",
    "stdGCEfull   = np.nanstd(GCE,axis=0)\n",
    "meanLCEfull  = np.nanmean(LCE,axis=0)\n",
    "stdLCEfull   = np.nanstd(LCE,axis=0)"
   ]
  },
  {
   "cell_type": "code",
   "execution_count": null,
   "id": "45490ed0",
   "metadata": {},
   "outputs": [],
   "source": [
    "# Show Resutls\n",
    "print('Mean IOU:')\n",
    "for i in range(len(meanIOUfull)):\n",
    "    \n",
    "    print('   ',keysFormated[i])\n",
    "    \n",
    "    for j in range(len(meanIOUfull[i])):\n",
    "        \n",
    "        print('       ',upscale[j])\n",
    "        print('           ',meanIOUfull[i,j],'+-',stdIOUfull[i,j])\n",
    "        \n",
    "    print('        Range:',np.max(meanIOUfull[i])-np.min(meanIOUfull[i]))"
   ]
  }
 ],
 "metadata": {
  "kernelspec": {
   "display_name": "Python 3 (ipykernel)",
   "language": "python",
   "name": "python3"
  },
  "language_info": {
   "codemirror_mode": {
    "name": "ipython",
    "version": 3
   },
   "file_extension": ".py",
   "mimetype": "text/x-python",
   "name": "python",
   "nbconvert_exporter": "python",
   "pygments_lexer": "ipython3",
   "version": "3.10.10"
  }
 },
 "nbformat": 4,
 "nbformat_minor": 5
}
