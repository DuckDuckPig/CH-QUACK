{
 "cells": [
  {
   "cell_type": "code",
   "execution_count": 1,
   "id": "44b9e069",
   "metadata": {},
   "outputs": [],
   "source": [
    "# Import Libaries and Tools\n",
    "import os\n",
    "import glob\n",
    "import numpy as np\n",
    "import matplotlib.pyplot as plt\n",
    "\n",
    "plt.rcParams.update({'font.size': 30})\n",
    "\n",
    "ROOT_DIR = os.path.abspath(\"../../../../\")"
   ]
  },
  {
   "cell_type": "code",
   "execution_count": null,
   "id": "f1e49e13",
   "metadata": {},
   "outputs": [],
   "source": [
    "# Key Varibles\n",
    "cr = 'CR2133'\n",
    "\n",
    "# Data Summary\n",
    "datasetFile = 'Results/' + cr + '.csv.Uni.SeedTransfer.npz'"
   ]
  },
  {
   "cell_type": "code",
   "execution_count": null,
   "id": "01bddb02",
   "metadata": {},
   "outputs": [],
   "source": [
    "# Open data summary\n",
    "data = np.load(datasetFile, allow_pickle=True)\n",
    "lst = data.files\n",
    "\n",
    "alphas = data[lst[0]]\n",
    "IOU    = data[lst[1]]\n",
    "SSIM   = data[lst[2]]\n",
    "GCE    = data[lst[3]]\n",
    "LCE    = data[lst[4]]"
   ]
  },
  {
   "cell_type": "code",
   "execution_count": null,
   "id": "891b429f",
   "metadata": {},
   "outputs": [],
   "source": [
    "# File Checks\n",
    "\n",
    "print('Number of Entries: ',len(alphas))\n",
    "print()\n",
    "errorEntry = np.where(alphas!=0.3)[0]\n",
    "print('List of Entries where alpha paramter was adjusted')\n",
    "print(errorEntry)"
   ]
  },
  {
   "cell_type": "code",
   "execution_count": null,
   "id": "c09887cf",
   "metadata": {},
   "outputs": [],
   "source": [
    "# Establish Lables\n",
    "\n",
    "# Upscale Methods\n",
    "upscale = ['Nearest-neighbor','Bi-linear','Bi-quadratic','Bi-cubic','Bi-quartic','Bi-quintic']\n",
    "\n",
    "# Scale Methods\n",
    "keysFormated = ['Eighth Scale\\n'r'($512\\times512$)']"
   ]
  },
  {
   "cell_type": "code",
   "execution_count": null,
   "id": "f80902b5",
   "metadata": {},
   "outputs": [],
   "source": [
    "# Ensure Folder Exists\n",
    "saveDirectory = '/Figures/SeedTransferEffectsMag/'\n",
    "saveDirectory = ROOT_DIR + saveDirectory\n",
    "\n",
    "if not os.path.exists(saveDirectory):\n",
    "    os.makedirs(saveDirectory)"
   ]
  },
  {
   "cell_type": "code",
   "execution_count": null,
   "id": "d5f5dfa6",
   "metadata": {},
   "outputs": [],
   "source": [
    "# Plots for 1/8th scale\n",
    "\n",
    "# Extract Data for 1/8 scale Interploation\n",
    "IOU8  = IOU[:,0,:]\n",
    "\n",
    "# Set up lables\n",
    "x = np.arange(len(upscale)) + 1\n",
    "\n",
    "# Plot and save results - IOU\n",
    "plt.figure(figsize=[30,15])\n",
    "title = 'IOU for seed transfer as a function of interpolation method over CR '\n",
    "title = title + cr[2:] + ' at eighth scale'\n",
    "plt.rcParams.update({'font.size': 30})\n",
    "plt.title(title)\n",
    "plt.boxplot(IOU8)\n",
    "plt.xticks(x,upscale)\n",
    "plt.grid()\n",
    "title = saveDirectory + 'IOU_Box_' + cr + '.8.eps'\n",
    "plt.savefig(title)\n",
    "plt.show()"
   ]
  },
  {
   "cell_type": "code",
   "execution_count": null,
   "id": "136fd0a0",
   "metadata": {},
   "outputs": [],
   "source": [
    "# Plots for 1/8th scale\n",
    "\n",
    "# Extract Data for 1/8 scale Interploation\n",
    "SSIM8  = SSIM[:,0,:]\n",
    "\n",
    "# Set up lables\n",
    "x = np.arange(len(upscale)) + 1\n",
    "\n",
    "# Plot and save results - IOU\n",
    "plt.figure(figsize=[30,15])\n",
    "title = 'SSIM for seed transfer as a function of interpolation method over CR '\n",
    "title = title + cr[2:] + ' at eighth scale'\n",
    "plt.rcParams.update({'font.size': 30})\n",
    "plt.title(title)\n",
    "plt.boxplot(SSIM8)\n",
    "plt.xticks(x,upscale)\n",
    "plt.grid()\n",
    "title = saveDirectory + 'SSIM_Box_' + cr + '.8.eps'\n",
    "plt.savefig(title)\n",
    "plt.show()"
   ]
  },
  {
   "cell_type": "code",
   "execution_count": null,
   "id": "7593a603",
   "metadata": {},
   "outputs": [],
   "source": [
    "# Plots for 1/8th scale\n",
    "\n",
    "# Extract Data for 1/8 scale Interploation\n",
    "GCE8  = GCE[:,0,:]\n",
    "\n",
    "# Set up lables\n",
    "x = np.arange(len(upscale)) + 1\n",
    "\n",
    "# Plot and save results - IOU\n",
    "plt.figure(figsize=[30,15])\n",
    "title = 'GCE for seed transfer as a function of interpolation method over CR '\n",
    "title = title + cr[2:] + ' at eighth scale'\n",
    "plt.rcParams.update({'font.size': 30})\n",
    "plt.title(title)\n",
    "plt.boxplot(GCE8)\n",
    "plt.xticks(x,upscale)\n",
    "plt.grid()\n",
    "title = saveDirectory + 'GCE_Box_' + cr + '.8.eps'\n",
    "plt.savefig(title)\n",
    "plt.show()"
   ]
  },
  {
   "cell_type": "code",
   "execution_count": null,
   "id": "cb22dd52",
   "metadata": {},
   "outputs": [],
   "source": [
    "# Plots for 1/8th scale\n",
    "\n",
    "# Extract Data for 1/8 scale Interploation\n",
    "LCE8  = LCE[:,0,:]\n",
    "\n",
    "# Set up lables\n",
    "x = np.arange(len(upscale)) + 1\n",
    "\n",
    "# Plot and save results - IOU\n",
    "plt.figure(figsize=[30,15])\n",
    "title = 'LCE for seed transfer as a function of interpolation method over CR '\n",
    "title = title + cr[2:] + ' at eighth scale'\n",
    "plt.rcParams.update({'font.size': 30})\n",
    "plt.title(title)\n",
    "plt.boxplot(LCE8)\n",
    "plt.xticks(x,upscale)\n",
    "plt.grid()\n",
    "title = saveDirectory + 'LCE_Box_' + cr + '.8.eps'\n",
    "plt.savefig(title)\n",
    "plt.show()"
   ]
  },
  {
   "cell_type": "code",
   "execution_count": null,
   "id": "37bf80ef",
   "metadata": {},
   "outputs": [],
   "source": [
    "# Calculate Stats for full dataset\n",
    "meanIOUfull  = np.nanmean(IOU,axis=0)\n",
    "stdIOUfull   = np.nanstd(IOU,axis=0)\n",
    "meanSSIMfull = np.nanmean(SSIM,axis=0)\n",
    "stdSSIMfull  = np.nanstd(SSIM,axis=0)\n",
    "meanGCEfull  = np.nanmean(GCE,axis=0)\n",
    "stdGCEfull   = np.nanstd(GCE,axis=0)\n",
    "meanLCEfull  = np.nanmean(LCE,axis=0)\n",
    "stdLCEfull   = np.nanstd(LCE,axis=0)"
   ]
  },
  {
   "cell_type": "code",
   "execution_count": null,
   "id": "113ca9f7",
   "metadata": {},
   "outputs": [],
   "source": [
    "# Show Resutls\n",
    "print('Mean IOU:')\n",
    "for i in range(len(meanIOUfull)):\n",
    "    \n",
    "    print('   ',keysFormated[i])\n",
    "    \n",
    "    for j in range(len(meanIOUfull[i])):\n",
    "        \n",
    "        print('       ',upscale[j])\n",
    "        print('           ',meanIOUfull[i,j],'+-',stdIOUfull[i,j])\n",
    "        \n",
    "    print('        Range:',np.max(meanIOUfull[i])-np.min(meanIOUfull[i]))"
   ]
  }
 ],
 "metadata": {
  "kernelspec": {
   "display_name": "Python 3 (ipykernel)",
   "language": "python",
   "name": "python3"
  },
  "language_info": {
   "codemirror_mode": {
    "name": "ipython",
    "version": 3
   },
   "file_extension": ".py",
   "mimetype": "text/x-python",
   "name": "python",
   "nbconvert_exporter": "python",
   "pygments_lexer": "ipython3",
   "version": "3.10.10"
  }
 },
 "nbformat": 4,
 "nbformat_minor": 5
}
