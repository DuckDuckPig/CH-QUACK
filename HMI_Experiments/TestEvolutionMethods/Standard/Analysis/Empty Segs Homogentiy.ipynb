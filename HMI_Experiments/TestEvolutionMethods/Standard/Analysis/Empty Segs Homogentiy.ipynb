{
 "cells": [
  {
   "cell_type": "code",
   "execution_count": 1,
   "id": "f785c793",
   "metadata": {},
   "outputs": [],
   "source": [
    "# Import Libraries and Tools\n",
    "import os\n",
    "import sys\n",
    "import glob\n",
    "import numpy as np\n",
    "\n",
    "# ACWE utilities\n",
    "# Root directory of the project\n",
    "ROOT_DIR = os.path.abspath(\"../../../../\")\n",
    "\n",
    "# Import ACWE Tools\n",
    "sys.path.append(ROOT_DIR)\n",
    "from ACWE_python_fall_2023 import acweSaveSeg_v5"
   ]
  },
  {
   "cell_type": "code",
   "execution_count": null,
   "id": "a9b762ed",
   "metadata": {},
   "outputs": [],
   "source": [
    "# Key Variables\n",
    "\n",
    "datasetFolder = '/mnt/coronal_holes/Paper 2/Code 02 Observations'\n",
    "datasetFolder = datasetFolder + '/HMI_Experiments/TestEvolutionMethods/Standard/Homogentiy/'"
   ]
  },
  {
   "cell_type": "code",
   "execution_count": null,
   "id": "9a5a501d",
   "metadata": {},
   "outputs": [],
   "source": [
    "# Prepare for loop\n",
    "\n",
    "files = sorted(glob.glob(datasetFolder + '*/*/*.npz'))"
   ]
  },
  {
   "cell_type": "code",
   "execution_count": null,
   "id": "c246ad5c",
   "metadata": {},
   "outputs": [],
   "source": [
    "# Loop test\n",
    "\n",
    "# Prepare for loop\n",
    "CR = ''\n",
    "\n",
    "# cycle through files\n",
    "for file in files:\n",
    "    \n",
    "    # Inform user as to Carrington Rotation\n",
    "    currentCR = file.split('/')[-3]\n",
    "    if CR[:-1] != currentCR:\n",
    "        CR = str(currentCR) + ':'\n",
    "        print(CR)\n",
    "    \n",
    "    # Open Files\n",
    "    H,AH,Seg = acweSaveSeg_v5.openSeg(file)\n",
    "    \n",
    "    # Print file if empty\n",
    "    if np.sum(Seg.astype(int)) == 0 or np.sum(np.isnan(Seg).astype(int))>0:\n",
    "        print('   ',os.path.basename(file))"
   ]
  }
 ],
 "metadata": {
  "kernelspec": {
   "display_name": "Python 3 (ipykernel)",
   "language": "python",
   "name": "python3"
  },
  "language_info": {
   "codemirror_mode": {
    "name": "ipython",
    "version": 3
   },
   "file_extension": ".py",
   "mimetype": "text/x-python",
   "name": "python",
   "nbconvert_exporter": "python",
   "pygments_lexer": "ipython3",
   "version": "3.10.10"
  }
 },
 "nbformat": 4,
 "nbformat_minor": 5
}
