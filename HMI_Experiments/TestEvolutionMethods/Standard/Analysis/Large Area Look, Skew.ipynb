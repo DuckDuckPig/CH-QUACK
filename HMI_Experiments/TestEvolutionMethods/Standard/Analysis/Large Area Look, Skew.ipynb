{
 "cells": [
  {
   "cell_type": "code",
   "execution_count": 1,
   "id": "f09bd8c5",
   "metadata": {},
   "outputs": [],
   "source": [
    "# Import Libraries and Tools\n",
    "import os\n",
    "import sys\n",
    "import glob\n",
    "import numpy as np\n",
    "import matplotlib.pyplot as plt\n",
    "\n",
    "# ACWE utilities\n",
    "# Root directory of the project\n",
    "ROOT_DIR = os.path.abspath(\"../../../../\")\n",
    "\n",
    "# Import ACWE Tools\n",
    "sys.path.append(ROOT_DIR)\n",
    "from ACWE_python_fall_2023 import acweSaveSeg_v5"
   ]
  },
  {
   "cell_type": "code",
   "execution_count": null,
   "id": "429d08c7",
   "metadata": {},
   "outputs": [],
   "source": [
    "# Key Variables\n",
    "\n",
    "datasetFolder = '/mnt/coronal_holes/Paper 2/Code 02 Observations'\n",
    "datasetFolder = datasetFolder + '/HMI_Experiments/TestEvolutionMethods/Standard/Skew/'"
   ]
  },
  {
   "cell_type": "code",
   "execution_count": null,
   "id": "5ea45442",
   "metadata": {},
   "outputs": [],
   "source": [
    "# Prepare for loop\n",
    "\n",
    "files = sorted(glob.glob(datasetFolder + '*/*/*.npz'))"
   ]
  },
  {
   "cell_type": "code",
   "execution_count": null,
   "id": "3c57c3e4",
   "metadata": {
    "scrolled": false
   },
   "outputs": [],
   "source": [
    "# Loop test\n",
    "\n",
    "# Prepare for loop\n",
    "CR = ''\n",
    "\n",
    "# cycle through files\n",
    "for file in files:\n",
    "    \n",
    "    # Inform user as to Carrington Rotation\n",
    "    currentCR = file.split('/')[-3]\n",
    "    if CR[:-1] != currentCR:\n",
    "        CR = str(currentCR) + ':'\n",
    "        print()\n",
    "        print('------')\n",
    "        print(CR)\n",
    "    \n",
    "    # Open Files\n",
    "    H,AH,Seg = acweSaveSeg_v5.openSeg(file)\n",
    "    \n",
    "    # File Shape\n",
    "    segShape = np.array(Seg.shape)\n",
    "    \n",
    "    # Check files with large area identified as CH\n",
    "    if np.sum(Seg.astype(int)) / (segShape[0] * segShape[1]) >= 0.025:\n",
    "        \n",
    "        # Plot Cases\n",
    "        plt.imshow(np.flip(Seg,axis=0),interpolation='None')\n",
    "        plt.title(os.path.basename(file))\n",
    "        plt.axis(False)\n",
    "        plt.show()"
   ]
  }
 ],
 "metadata": {
  "kernelspec": {
   "display_name": "Python 3 (ipykernel)",
   "language": "python",
   "name": "python3"
  },
  "language_info": {
   "codemirror_mode": {
    "name": "ipython",
    "version": 3
   },
   "file_extension": ".py",
   "mimetype": "text/x-python",
   "name": "python",
   "nbconvert_exporter": "python",
   "pygments_lexer": "ipython3",
   "version": "3.10.10"
  }
 },
 "nbformat": 4,
 "nbformat_minor": 5
}
