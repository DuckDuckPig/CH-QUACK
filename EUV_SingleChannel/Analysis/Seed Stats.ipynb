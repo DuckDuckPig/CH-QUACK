{
 "cells": [
  {
   "cell_type": "code",
   "execution_count": 1,
   "id": "ad73e4a6",
   "metadata": {},
   "outputs": [],
   "source": [
    "# Import Libraries and Tools\n",
    "import glob\n",
    "import os\n",
    "import numpy as np\n",
    "import matplotlib.pyplot as plt"
   ]
  },
  {
   "cell_type": "code",
   "execution_count": null,
   "id": "65eadb38",
   "metadata": {},
   "outputs": [],
   "source": [
    "# Key Varibles\n",
    "\n",
    "# Dataset\n",
    "resultsFolder = 'Results/'\n",
    "CR = 'CR2133'\n",
    "\n",
    "# Program Output\n",
    "seedPrefix = 'Seed'\n",
    "segPrefix  = 'Seg'\n",
    "sufix      = 'Counts'\n",
    "\n",
    "# Figure Folder\n",
    "figFolder = '/home/jgra/Coronal Holes/2nd paper/Code 02/Figures/SeedToSegEval/'"
   ]
  },
  {
   "cell_type": "code",
   "execution_count": null,
   "id": "fdab5048",
   "metadata": {},
   "outputs": [],
   "source": [
    "# Get Data\n",
    "SeedFiles = sorted(glob.glob(resultsFolder + seedPrefix + '*' + sufix + '.' + CR + '.npz'))\n",
    "SegFiles  = sorted(glob.glob(resultsFolder + segPrefix  + '*' + sufix + '.' + CR + '.npz'))"
   ]
  },
  {
   "cell_type": "code",
   "execution_count": null,
   "id": "44194970",
   "metadata": {},
   "outputs": [],
   "source": [
    "# Load data\n",
    "for i in range(len(SeedFiles)):\n",
    "    \n",
    "    # Get File Names\n",
    "    seedFile = SeedFiles[i]\n",
    "    segFile  = SegFiles[i]\n",
    "    \n",
    "    # Get Scale\n",
    "    scale = os.path.basename(seedFile).split(seedPrefix)[1].split(sufix)[0]\n",
    "    if scale == '1':\n",
    "        scale = 'Full Scale'\n",
    "    elif scale == '2':\n",
    "        scale = 'Half Scale'\n",
    "    elif scale == '4':\n",
    "        scale = 'Quarter Scale'\n",
    "    elif scale == '8':\n",
    "        scale = 'Eight Scale'\n",
    "    \n",
    "    # Load Data\n",
    "    data     = np.load(seedFile, allow_pickle=True)\n",
    "    lst      = data.files\n",
    "    nbrSeeds = data[lst[0]]\n",
    "    \n",
    "    data     = np.load(segFile,  allow_pickle=True)\n",
    "    lst      = data.files\n",
    "    nbrSegs  = data[lst[0]]\n",
    "    \n",
    "    # Prepare for Scatter Plot\n",
    "    combos,counts = np.unique(np.dstack([nbrSegs.transpose(),\n",
    "                                         nbrSeeds.transpose()])[0],\n",
    "                              axis=0,return_counts=True)\n",
    "    uniqueSegs = combos[:,0]\n",
    "    uniqueSeed = combos[:,1]\n",
    "    ttlmax=np.nanmax(combos).astype(int)\n",
    "    \n",
    "    # Make Figure Folder\n",
    "    if not os.path.exists(figFolder):\n",
    "        os.makedirs(figFolder)\n",
    "\n",
    "    # Plot - Full Scale\n",
    "    plt.figure(dpi=300)\n",
    "    plt.rcParams['axes.axisbelow'] = True\n",
    "    title = 'CR ' + CR[2:] + '\\nFinal CH to Seed Relationship, ' + scale\n",
    "    plt.title(title)\n",
    "    plt.plot(range(0,ttlmax+1),range(0,ttlmax+1),':')\n",
    "    plt.scatter(uniqueSeed,uniqueSegs,c=counts,cmap='gist_rainbow') # ,cmap='hsv',s=20*counts,alpha=0.5,)\n",
    "    plt.colorbar()\n",
    "    plt.ylabel('Number of CHs in EUV Only Segmentation')\n",
    "    plt.xlabel('Number of Initial Seeds')\n",
    "    plt.grid()\n",
    "    plt.savefig(figFolder + title.replace('\\n',' ')+'.png')\n",
    "    plt.show()"
   ]
  }
 ],
 "metadata": {
  "kernelspec": {
   "display_name": "Python 3 (ipykernel)",
   "language": "python",
   "name": "python3"
  },
  "language_info": {
   "codemirror_mode": {
    "name": "ipython",
    "version": 3
   },
   "file_extension": ".py",
   "mimetype": "text/x-python",
   "name": "python",
   "nbconvert_exporter": "python",
   "pygments_lexer": "ipython3",
   "version": "3.10.10"
  }
 },
 "nbformat": 4,
 "nbformat_minor": 5
}
