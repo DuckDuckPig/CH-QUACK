{
 "cells": [
  {
   "cell_type": "code",
   "execution_count": 1,
   "id": "b979d0e0",
   "metadata": {},
   "outputs": [],
   "source": [
    "# Libaries and Tools\n",
    "\n",
    "import glob\n",
    "import numpy as np\n",
    "import matplotlib.pyplot as plt\n",
    "import datetime\n",
    "import os\n",
    "import astropy.units as u\n",
    "import datetime"
   ]
  },
  {
   "cell_type": "code",
   "execution_count": null,
   "id": "26c97bd9",
   "metadata": {},
   "outputs": [],
   "source": [
    "# Key Varibles\n",
    "\n",
    "resultsFolder = 'Results/'\n",
    "saveName = '.Mag.npz'"
   ]
  },
  {
   "cell_type": "code",
   "execution_count": null,
   "id": "17116c15",
   "metadata": {},
   "outputs": [],
   "source": [
    "# Key Functions\n",
    "def rollingAvg(dates,values,window):\n",
    "    \n",
    "    # Cut window in half\n",
    "    halfWindow = window/2\n",
    "    \n",
    "    avgValues = np.empty(len(values)); avgValues[:] = np.nan\n",
    "    stdValues = np.empty(len(values)); stdValues[:] = np.nan\n",
    "    \n",
    "    # Cycle Through Data\n",
    "    for i in range(len(dates)):\n",
    "        \n",
    "        # Window\n",
    "        minDate = np.max([dates[i] - halfWindow, dates[0]])\n",
    "        maxDate = np.min([dates[i] + halfWindow, dates[-1]])\n",
    "        \n",
    "        # avg\n",
    "        avgValues[i] = np.nanmean(values[(dates>minDate)&(dates<maxDate)])\n",
    "        \n",
    "        # std\n",
    "        stdValues[i] = np.nanstd(values[(dates>minDate)&(dates<maxDate)])\n",
    "        \n",
    "    return avgValues,stdValues"
   ]
  },
  {
   "cell_type": "code",
   "execution_count": null,
   "id": "2de8a338",
   "metadata": {},
   "outputs": [],
   "source": [
    "# Get Data\n",
    "dataset = sorted(glob.glob(resultsFolder + '*' + saveName))"
   ]
  },
  {
   "cell_type": "code",
   "execution_count": null,
   "id": "5e087ca5",
   "metadata": {},
   "outputs": [],
   "source": [
    "# Stack data\n",
    "\n",
    "# Open First .npz file and get list of \"arrays\"\n",
    "data = np.load(dataset[0], allow_pickle=True)\n",
    "lst = data.files\n",
    "    \n",
    "# Get Data\n",
    "dates   = data[lst[0]]\n",
    "pxAreas = data[lst[1]]\n",
    "MmAreas = data[lst[2]]\n",
    "sMmean  = data[lst[3]]\n",
    "usMmean = data[lst[4]]\n",
    "cMass   = data[lst[5]]\n",
    "\n",
    "# remaining cases\n",
    "for i in range(1,len(dataset)):\n",
    "    \n",
    "    # Open .npz file and get list of \"arrays\"\n",
    "    data = np.load(dataset[i], allow_pickle=True)\n",
    "    lst = data.files\n",
    "    \n",
    "    # Get Data\n",
    "    newDates   = data[lst[0]]\n",
    "    newPxAreas = data[lst[1]]\n",
    "    newMmAreas = data[lst[2]]\n",
    "    newSMmean  = data[lst[3]]\n",
    "    newUsMmean = data[lst[4]]\n",
    "    newCMass   = data[lst[5]]\n",
    "    \n",
    "    # Combine Data, Preveting Doubles\n",
    "    for j in range(len(newDates)):\n",
    "        if newDates[j] != dates[-1]:\n",
    "            dates   = np.hstack([dates,   newDates[j:]])\n",
    "            pxAreas = np.hstack([pxAreas, newPxAreas[j:]])\n",
    "            MmAreas = np.hstack([MmAreas, newMmAreas[j:]])\n",
    "            sMmean  = np.hstack([sMmean,  newSMmean[j:]])\n",
    "            usMmean = np.hstack([usMmean, newUsMmean[j:]])\n",
    "            cMass   = np.hstack([cMass,   newCMass[j:]])\n",
    "            break"
   ]
  },
  {
   "cell_type": "code",
   "execution_count": null,
   "id": "74bf39e0",
   "metadata": {},
   "outputs": [],
   "source": [
    "print(np.sum(np.isnan(sMmean)))"
   ]
  },
  {
   "cell_type": "code",
   "execution_count": null,
   "id": "8a2e7f2a",
   "metadata": {},
   "outputs": [],
   "source": [
    "maxC = np.empty(len(cMass)); maxC[:] = np.nan\n",
    "for i in range(len(maxC)):\n",
    "    maxC[i] = np.max([np.abs(cMass[i].Tx/u.arcsec),np.abs(cMass[i].Ty/u.arcsec)])"
   ]
  },
  {
   "cell_type": "code",
   "execution_count": null,
   "id": "8c531669",
   "metadata": {},
   "outputs": [],
   "source": [
    "# Sanity Check\n",
    "print(cMass[0])"
   ]
  },
  {
   "cell_type": "code",
   "execution_count": null,
   "id": "9d052f3b",
   "metadata": {
    "scrolled": false
   },
   "outputs": [],
   "source": [
    "# Projection-corrected Mean Magnetic Field Density\n",
    "plt.figure(figsize=[5,1.7],dpi=300)\n",
    "plt.rcParams.update({'font.size': 6})\n",
    "plt.scatter(dates[maxC<=500],abs(sMmean[maxC<=500]),0.5,'lightsteelblue')\n",
    "plt.title(r'$|\\bar{B}|$ of individual CHs within $\\pm500^{\\prime\\prime}$')\n",
    "plt.xlabel('Date')\n",
    "plt.ylabel(r'$|\\bar{B}|$ (G)')\n",
    "plt.grid()\n",
    "title = 'MagDensityWide.eps'\n",
    "saveFolder = '../../Figures/DailyCadence/'\n",
    "if not os.path.exists(saveFolder):\n",
    "    os.makedirs(saveFolder)\n",
    "plt.savefig(saveFolder+title)\n",
    "plt.show()"
   ]
  },
  {
   "cell_type": "code",
   "execution_count": null,
   "id": "611f0caf",
   "metadata": {},
   "outputs": [],
   "source": [
    "# Rolling Avg\n",
    "windows = [datetime.timedelta(days=60),\n",
    "           datetime.timedelta(days=120),\n",
    "           datetime.timedelta(days=240),\n",
    "           datetime.timedelta(days=365)]\n",
    "\n",
    "window = datetime.timedelta(days=365)\n",
    "label=str(window)[:-10]+' sliding window mean'\n",
    "SmAvg,SmStd = rollingAvg(dates[maxC<=500],abs(sMmean[maxC<=500]),window)\n",
    "\n",
    "# Projection-corrected Mean Magnetic Field Density - Zoom In\n",
    "plt.figure(figsize=[5,1.7],dpi=300)\n",
    "plt.rcParams.update({'font.size': 6})\n",
    "plt.scatter(dates[maxC<=500],abs(sMmean[maxC<=500]),0.5,'lightsteelblue')\n",
    "for i in range(len(windows)):\n",
    "    label=str(windows[i])[:-10] + ' window'\n",
    "    MmAvg,MmStd = rollingAvg(dates[maxC<=500],abs(sMmean[maxC<=500]),windows[i])\n",
    "    plt.plot(dates[maxC<=500],MmAvg,lw=.55,label=label)\n",
    "plt.ylim(-0.5,15.5)\n",
    "plt.title(r'$|\\bar{B}|$ of individual CHs within $\\pm500^{\\prime\\prime}$')\n",
    "plt.xlabel('Date')\n",
    "plt.ylabel(r'$|\\bar{B}|$ (G)')\n",
    "plt.grid()\n",
    "title = 'MagDensityZoom.eps'\n",
    "saveFolder = '../../Figures/DailyCadence/'\n",
    "if not os.path.exists(saveFolder):\n",
    "    os.makedirs(saveFolder)\n",
    "plt.savefig(saveFolder+title)\n",
    "plt.show()"
   ]
  },
  {
   "cell_type": "code",
   "execution_count": null,
   "id": "c78acd2d",
   "metadata": {},
   "outputs": [],
   "source": [
    "print('Mean absolute Magnetic Field Density in 500\\\" range:',\n",
    "      np.nanmean(abs(sMmean[maxC<=500])), '±',\n",
    "      np.nanstd(abs(sMmean[maxC<=500])), 'G' )\n",
    "\n",
    "# Remove 2024 Outliers\n",
    "region1 = (dates<datetime.datetime(2024,5,1)).astype(int) + (dates>datetime.datetime(2024,6,1)).astype(int)\n",
    "region = (region1 * (maxC<=500).astype(int)).astype(bool)\n",
    "print('Mean absolute Magnetic Field Density in 500\\\" range:',\n",
    "      np.nanmean(abs(sMmean[region])), '±',\n",
    "      np.nanstd(abs(sMmean[region])), 'G' )"
   ]
  },
  {
   "cell_type": "code",
   "execution_count": null,
   "id": "026c10b7",
   "metadata": {
    "scrolled": false
   },
   "outputs": [],
   "source": [
    "plt.figure(figsize=[5,1.7],dpi=300)\n",
    "plt.rcParams.update({'font.size': 6})\n",
    "plt.scatter(dates,MmAreas,0.5,'lightsteelblue',label='Observed Area')\n",
    "for i in range(len(windows)):\n",
    "    label=str(windows[i])[:-10] + ' window'\n",
    "    MmAvg,MmStd = rollingAvg(dates,MmAreas,windows[i])\n",
    "    plt.plot(dates,MmAvg,lw=.55,label=label)\n",
    "#plt.legend()\n",
    "plt.title('Area in Mm of Individual CHs')\n",
    "plt.xlabel('Date')\n",
    "plt.ylabel(r'CH Area (Mm$^2$)')\n",
    "plt.grid()\n",
    "title = 'IndividualCHareaMm.eps'\n",
    "saveFolder = '../../Figures/DailyCadence/'\n",
    "if not os.path.exists(saveFolder):\n",
    "    os.makedirs(saveFolder)\n",
    "plt.savefig(saveFolder+title)\n",
    "plt.show()"
   ]
  },
  {
   "cell_type": "code",
   "execution_count": null,
   "id": "f77fc786",
   "metadata": {},
   "outputs": [],
   "source": [
    "print('Mean area of all CHs:',\n",
    "      np.nanmean(MmAreas), '±',\n",
    "      np.nanstd(MmAreas), 'Mm2' )\n",
    "print('Median Area of all CHs:',\n",
    "      np.nanmedian(MmAreas), 'Mm2')\n",
    "print()\n",
    "print('Mean area of all CHs:',\n",
    "      np.nanmean(MmAreas[region1.astype(bool)]), '±',\n",
    "      np.nanstd(MmAreas[region1.astype(bool)]), 'Mm2' )\n",
    "print('Median Area of all CHs:',\n",
    "      np.nanmedian(MmAreas[region1.astype(bool)]), 'Mm2')"
   ]
  },
  {
   "cell_type": "code",
   "execution_count": null,
   "id": "c2976a7d",
   "metadata": {
    "scrolled": false
   },
   "outputs": [],
   "source": [
    "# Number of CHs\n",
    "dts,Counts = np.unique(dates,return_counts=True)\n",
    "\n",
    "plt.figure(figsize=[5,1.7],dpi=300)\n",
    "plt.rcParams.update({'font.size': 6})\n",
    "plt.bar(dts,Counts)#,1)\n",
    "plt.title('Number of individual CHs')\n",
    "plt.xlabel('Observation, organized by Date')\n",
    "plt.ylabel('Number of CHs')\n",
    "plt.ylim([0,21])\n",
    "plt.grid()\n",
    "title = 'NumberOfCHsZoom.eps'\n",
    "saveFolder = '../../Figures/DailyCadence/'\n",
    "if not os.path.exists(saveFolder):\n",
    "    os.makedirs(saveFolder)\n",
    "plt.savefig(saveFolder+title)\n",
    "plt.show()\n",
    "\n",
    "# Get dates of outliers\n",
    "for i in range(len(Counts)):\n",
    "    \n",
    "    if Counts[i]>=20:\n",
    "        print(dts[i],Counts[i])"
   ]
  },
  {
   "cell_type": "code",
   "execution_count": null,
   "id": "a6e92019",
   "metadata": {},
   "outputs": [],
   "source": [
    "# Number of CHs\n",
    "dts,Counts = np.unique(dates,return_counts=True)\n",
    "\n",
    "plt.figure(figsize=[5,1.7],dpi=300)\n",
    "plt.rcParams.update({'font.size': 6})\n",
    "plt.bar(dts,Counts)#,1)\n",
    "plt.title('Number of individual CHs')\n",
    "plt.xlabel('Observation, organized by Date')\n",
    "plt.ylabel('Number of CHs')\n",
    "plt.ylim(-0.5,20.5)\n",
    "plt.grid()\n",
    "title = 'NumberOfCHsZoom.eps'\n",
    "saveFolder = '../../Figures/DailyCadence/'\n",
    "if not os.path.exists(saveFolder):\n",
    "    os.makedirs(saveFolder)\n",
    "plt.savefig(saveFolder+title)\n",
    "plt.show()"
   ]
  },
  {
   "cell_type": "code",
   "execution_count": null,
   "id": "ce0002d6",
   "metadata": {
    "scrolled": false
   },
   "outputs": [],
   "source": [
    "plt.figure(figsize=[5,1.7],dpi=300)\n",
    "plt.rcParams.update({'font.size': 6})\n",
    "plt.scatter(dates[maxC<=500],MmAreas[maxC<=500],0.5,'lightsteelblue')\n",
    "for i in range(len(windows)):\n",
    "    label=str(windows[i])[:-10] + ' window'\n",
    "    MmAvg,MmStd = rollingAvg(dates[maxC<=500],MmAreas[maxC<=500],windows[i])\n",
    "    plt.plot(dates[maxC<=500],MmAvg,lw=.55,label=label)\n",
    "plt.title(r'Area of Individual CHs within $\\pm500^{\\prime\\prime}$')\n",
    "plt.xlabel('Date')\n",
    "plt.ylabel(r'CH Area (Mm$^2$)')\n",
    "plt.grid()\n",
    "title = 'IndividualSquareCHareaMm.eps'\n",
    "saveFolder = '../../Figures/DailyCadence/'\n",
    "if not os.path.exists(saveFolder):\n",
    "    os.makedirs(saveFolder)\n",
    "plt.savefig(saveFolder+title)\n",
    "plt.show()"
   ]
  },
  {
   "cell_type": "code",
   "execution_count": null,
   "id": "49b34db2",
   "metadata": {},
   "outputs": [],
   "source": [
    "# Rolling Avg\n",
    "MmAvg,MmStd = rollingAvg(dates[maxC<=500],MmAreas[maxC<=500],window)\n",
    "\n",
    "\n",
    "plt.figure(figsize=[5,1.7],dpi=300)\n",
    "plt.rcParams.update({'font.size': 6})\n",
    "plt.scatter(dates[maxC<=500],MmAreas[maxC<=500],0.5,'lightsteelblue')\n",
    "for i in range(len(windows)):\n",
    "    label=str(windows[i])[:-10] + ' window'\n",
    "    MmAvg,MmStd = rollingAvg(dates[maxC<=500],MmAreas[maxC<=500],windows[i])\n",
    "    plt.plot(dates[maxC<=500],MmAvg,lw=.55,label=label)\n",
    "plt.title(r'Area of Individual CHs within $\\pm500^{\\prime\\prime}$')\n",
    "plt.xlabel('Date')\n",
    "plt.ylabel(r'CH Area (Mm$^2$)')\n",
    "plt.ylim(-1000,150000)\n",
    "plt.grid()\n",
    "title = 'IndividualSquareCHareaMmZoom.eps'\n",
    "saveFolder = '../../Figures/DailyCadence/'\n",
    "if not os.path.exists(saveFolder):\n",
    "    os.makedirs(saveFolder)\n",
    "plt.savefig(saveFolder+title)\n",
    "plt.show()"
   ]
  }
 ],
 "metadata": {
  "kernelspec": {
   "display_name": "Python 3 (ipykernel)",
   "language": "python",
   "name": "python3"
  },
  "language_info": {
   "codemirror_mode": {
    "name": "ipython",
    "version": 3
   },
   "file_extension": ".py",
   "mimetype": "text/x-python",
   "name": "python",
   "nbconvert_exporter": "python",
   "pygments_lexer": "ipython3",
   "version": "3.10.10"
  }
 },
 "nbformat": 4,
 "nbformat_minor": 5
}
