{
 "cells": [
  {
   "cell_type": "code",
   "execution_count": 1,
   "id": "5791bb1f",
   "metadata": {},
   "outputs": [],
   "source": [
    "# Import libraties and tools\n",
    "import os\n",
    "import sys\n",
    "import numpy as np\n",
    "import datetime\n",
    "import glob\n",
    "import skimage.morphology\n",
    "import matplotlib.pyplot as plt\n",
    "\n",
    "# ACWE utilities\n",
    "# Root directory of the project\n",
    "ROOT_DIR = os.path.abspath(\"../../\")\n",
    "\n",
    "# Import ACWE Tools\n",
    "sys.path.append(ROOT_DIR)\n",
    "from ACWE_python_fall_2023 import acweSaveSeg_v5 as as5, acweRestoreScale as ars\n",
    "from DatasetTools import DataManagmentTools as dmt\n",
    "from SDO_tools import read_fits"
   ]
  },
  {
   "cell_type": "code",
   "execution_count": null,
   "id": "afd5e987",
   "metadata": {},
   "outputs": [],
   "source": [
    "# Key Varibles\n",
    "\n",
    "# Datset\n",
    "dataFolder  = '/home/jgra/Coronal Holes/DailyCadenceData/'\n",
    "traceFolder = os.path.join(ROOT_DIR, 'DatasetTools/DailyCadenceDownloadLists/')\n",
    "\n",
    "# SaveFolder - Update to refect location where data will be saved \n",
    "saveFolder = '/mnt/coronal_holes/Paper 2/Code 02 Observations'\n",
    "saveFolder = saveFolder + '/FinalPipeline/DailyCadence/Standard/Uni/'\n",
    "\n",
    "daterange = np.array([datetime.datetime(2024,5,1,0,0,0),\n",
    "                      datetime.datetime(2024,6,1,0,0,0)])\n",
    "\n",
    "strell = 40"
   ]
  },
  {
   "cell_type": "code",
   "execution_count": null,
   "id": "e9cd8936",
   "metadata": {},
   "outputs": [],
   "source": [
    "# List of data\n",
    "\n",
    "CRsaveFolders = sorted(glob.glob(saveFolder + '*'))"
   ]
  },
  {
   "cell_type": "code",
   "execution_count": null,
   "id": "a716fdbe",
   "metadata": {
    "scrolled": false
   },
   "outputs": [],
   "source": [
    "# Cycle throught Dataset\n",
    "\n",
    "for i in range(len(CRsaveFolders)):\n",
    "    \n",
    "    CRsaveFolder = CRsaveFolders[i]\n",
    "    \n",
    "    # Get CR\n",
    "    CR = os.path.basename(CRsaveFolder)\n",
    "    \n",
    "    # Get List of images\n",
    "    files = sorted(glob.glob(CRsaveFolder + '/*/*.npz'))\n",
    "    \n",
    "    # Continue only if in date range\n",
    "    for file in files:\n",
    "        \n",
    "        # Corrisponding Files\n",
    "        folder  = CR + '/' + file.split('/')[-2] + '/'\n",
    "        euvFile = glob.glob(dataFolder + folder + 'aia.*.193.*.fits')[0]\n",
    "        hmiFile = glob.glob(dataFolder + folder + 'hmi.*.fits')[0]\n",
    "        \n",
    "        # Continue if in date range\n",
    "        obDate =  dmt.timeFromFilenameAIA(euvFile)\n",
    "        if obDate >= daterange[0] and obDate <= daterange[1]:\n",
    "            \n",
    "            # Open Segmentation\n",
    "            Hseg,AH,SEG = as5.openSeg(file)\n",
    "            SEG = ars.upscale(SEG,AH)\n",
    "            \n",
    "            # Open EUV Data\n",
    "            Ieuv,IeuvDsp,Heuv = read_fits.openAIA(euvFile)\n",
    "            \n",
    "            # Open HMI Data\n",
    "            Ihmi,Hhmi = read_fits.openHMI(hmiFile,Ieuv,Heuv)\n",
    "            IhmiDsp = np.clip(Ihmi,-100,100)\n",
    "            \n",
    "            # Find and Label CH Regions\n",
    "            ACWE_clusters = SEG * 1\n",
    "            ACWE_clusters[np.where(ACWE_clusters>0)] = 1\n",
    "            ACWE_clusters = skimage.morphology.dilation(ACWE_clusters.astype(bool),\n",
    "                                                        np.ones([strell,strell]))\n",
    "            ACWE_clusters = skimage.measure.label(ACWE_clusters,connectivity=2)\n",
    "            \n",
    "            # Plot Cases\n",
    "            plt.figure(figsize=[5,2],dpi=300)\n",
    "            plt.rcParams.update({'font.size': 6})\n",
    "            title = Heuv['T_REC'] + ', ' + str(np.max(ACWE_clusters)) +\\\n",
    "                    ' Region(s)\\nExposure Time: ' + str(Heuv['EXPTIME']) + ' s'\n",
    "            plt.suptitle(title)\n",
    "            plt.subplot(1,3,1)\n",
    "            plt.imshow(np.flip(IeuvDsp,axis=0),cmap='gray')\n",
    "            plt.axis(False)\n",
    "            plt.title('EUV Observation')\n",
    "            plt.subplot(1,3,2)\n",
    "            plt.imshow(np.flip(SEG,axis=0),interpolation='None')\n",
    "            plt.axis(False)\n",
    "            plt.title('Segmentation')\n",
    "            plt.subplot(1,3,3)\n",
    "            plt.imshow(np.flip(IhmiDsp,axis=0),cmap='gray')\n",
    "            plt.axis(False)\n",
    "            plt.title('HMI Observation')\n",
    "            plt.show()"
   ]
  }
 ],
 "metadata": {
  "kernelspec": {
   "display_name": "Python 3 (ipykernel)",
   "language": "python",
   "name": "python3"
  },
  "language_info": {
   "codemirror_mode": {
    "name": "ipython",
    "version": 3
   },
   "file_extension": ".py",
   "mimetype": "text/x-python",
   "name": "python",
   "nbconvert_exporter": "python",
   "pygments_lexer": "ipython3",
   "version": "3.10.10"
  }
 },
 "nbformat": 4,
 "nbformat_minor": 5
}
