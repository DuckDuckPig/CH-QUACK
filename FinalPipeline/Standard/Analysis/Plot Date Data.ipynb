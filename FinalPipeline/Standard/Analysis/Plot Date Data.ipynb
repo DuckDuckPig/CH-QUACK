{
 "cells": [
  {
   "cell_type": "code",
   "execution_count": 1,
   "id": "30fb09d0",
   "metadata": {},
   "outputs": [],
   "source": [
    "# Libaries and Tools\n",
    "\n",
    "import glob\n",
    "import numpy as np\n",
    "import matplotlib.pyplot as plt\n",
    "import datetime\n",
    "import os"
   ]
  },
  {
   "cell_type": "code",
   "execution_count": null,
   "id": "7fd9d852",
   "metadata": {},
   "outputs": [],
   "source": [
    "# Key Varibles\n",
    "\n",
    "resultsFolder = 'Results/'\n",
    "saveName = '.Area.npz'"
   ]
  },
  {
   "cell_type": "code",
   "execution_count": null,
   "id": "c16335e4",
   "metadata": {},
   "outputs": [],
   "source": [
    "# Key Functions\n",
    "def rollingAvg(dates,values,window):\n",
    "    \n",
    "    # Cut window in half\n",
    "    halfWindow = window/2\n",
    "    \n",
    "    avgValues = np.empty(len(values)); avgValues[:] = np.nan\n",
    "    stdValues = np.empty(len(values)); stdValues[:] = np.nan\n",
    "    \n",
    "    # Cycle Through Data\n",
    "    for i in range(len(dates)):\n",
    "        \n",
    "        # Window\n",
    "        minDate = np.max([dates[i] - halfWindow, dates[0]])\n",
    "        maxDate = np.min([dates[i] + halfWindow, dates[-1]])\n",
    "        \n",
    "        # avg\n",
    "        avgValues[i] = np.mean(values[(dates>minDate)&(dates<maxDate)])\n",
    "        \n",
    "        # std\n",
    "        stdValues[i] = np.std(values[(dates>minDate)&(dates<maxDate)])\n",
    "        \n",
    "    return avgValues,stdValues"
   ]
  },
  {
   "cell_type": "code",
   "execution_count": null,
   "id": "c9e6723e",
   "metadata": {},
   "outputs": [],
   "source": [
    "# Get Data\n",
    "dataset = sorted(glob.glob(resultsFolder + '*' + saveName))"
   ]
  },
  {
   "cell_type": "code",
   "execution_count": null,
   "id": "baea7a56",
   "metadata": {},
   "outputs": [],
   "source": [
    "# Stack data\n",
    "\n",
    "# Open First .npz file and get list of \"arrays\"\n",
    "data = np.load(dataset[0], allow_pickle=True)\n",
    "lst = data.files\n",
    "    \n",
    "# Get Data\n",
    "dates   = data[lst[0]]\n",
    "pxAreas = data[lst[1]]\n",
    "MmAreas = data[lst[2]]\n",
    "\n",
    "# remaining cases\n",
    "for i in range(1,len(dataset)):\n",
    "    \n",
    "    # Open .npz file and get list of \"arrays\"\n",
    "    data = np.load(dataset[i], allow_pickle=True)\n",
    "    lst = data.files\n",
    "    \n",
    "    # Get Data\n",
    "    newDates   = data[lst[0]]\n",
    "    newPxAreas = data[lst[1]]\n",
    "    newMmAreas = data[lst[2]]\n",
    "    \n",
    "    # Combine Data, Preveting Doubles\n",
    "    if dates[-1] == newDates[0]:\n",
    "        dates   = np.hstack([dates,newDates[1:]])\n",
    "        pxAreas = np.hstack([pxAreas,newPxAreas[1:]])\n",
    "        MmAreas = np.hstack([MmAreas,newMmAreas[1:]])\n",
    "    else:\n",
    "        dates   = np.hstack([dates,newDates])\n",
    "        pxAreas = np.hstack([pxAreas,newPxAreas])\n",
    "        MmAreas = np.hstack([MmAreas,newMmAreas])"
   ]
  },
  {
   "cell_type": "code",
   "execution_count": null,
   "id": "b7626092",
   "metadata": {
    "scrolled": false
   },
   "outputs": [],
   "source": [
    "# Rolling Avg\n",
    "window = datetime.timedelta(days=60)\n",
    "label=str(window)[:-10]+' sliding window mean'\n",
    "MmAvg,MmStd = rollingAvg(dates,MmAreas,window)\n",
    "\n",
    "# Plot Results\n",
    "plt.figure(figsize=[5,1.7],dpi=300)\n",
    "plt.rcParams.update({'font.size': 6})\n",
    "plt.scatter(dates,MmAreas,.5,label='Observed Area')\n",
    "plt.plot(dates,MmAvg,'r',lw=.55,label=label)\n",
    "#plt.fill_between(dates,MmAvg-MmStd,MmAvg+MmStd,color=(1,0,0,.3),label='Standard Deviation')\n",
    "#plt.legend()\n",
    "plt.title('Observed CH Area')\n",
    "plt.xlabel('Date')\n",
    "plt.ylabel(r'CH Area (Mm$^2$)')\n",
    "plt.grid()\n",
    "title = 'CHareaMm' + label.replace(' ','') + '.eps'\n",
    "saveFolder = '../../Figures/DailyCadence/'\n",
    "if not os.path.exists(saveFolder):\n",
    "    os.makedirs(saveFolder)\n",
    "plt.savefig(saveFolder+title)\n",
    "plt.show()"
   ]
  },
  {
   "cell_type": "code",
   "execution_count": null,
   "id": "6db03e4f",
   "metadata": {},
   "outputs": [],
   "source": [
    "# Rolling Avg\n",
    "pxAvg,pxStd = rollingAvg(dates,pxAreas,window)\n",
    "\n",
    "# Plot Results\n",
    "plt.figure(figsize=[5,1.7],dpi=300)\n",
    "plt.rcParams.update({'font.size': 6})\n",
    "plt.scatter(dates,pxAreas,.5,label='Observed Area')\n",
    "plt.plot(dates,pxAvg,'r',lw=.55,label=label)\n",
    "#plt.fill_between(dates,pxAvg-pxStd,pxAvg+pxStd,color=(1,0,0,.3),label='Standard Deviation')\n",
    "#plt.legend()\n",
    "plt.title('Observed CH Area')\n",
    "plt.xlabel('Date')\n",
    "plt.ylabel('CH Area (pixels)')\n",
    "plt.grid()\n",
    "title = 'CHareaPix' + label.replace(' ','') + '.eps'\n",
    "plt.savefig(saveFolder+title)\n",
    "plt.show()"
   ]
  }
 ],
 "metadata": {
  "kernelspec": {
   "display_name": "Python 3 (ipykernel)",
   "language": "python",
   "name": "python3"
  },
  "language_info": {
   "codemirror_mode": {
    "name": "ipython",
    "version": 3
   },
   "file_extension": ".py",
   "mimetype": "text/x-python",
   "name": "python",
   "nbconvert_exporter": "python",
   "pygments_lexer": "ipython3",
   "version": "3.10.10"
  }
 },
 "nbformat": 4,
 "nbformat_minor": 5
}
