{
 "cells": [
  {
   "cell_type": "code",
   "execution_count": 1,
   "id": "b979d0e0",
   "metadata": {},
   "outputs": [],
   "source": [
    "# Libaries and Tools\n",
    "\n",
    "import glob\n",
    "import numpy as np\n",
    "import matplotlib.pyplot as plt\n",
    "import datetime\n",
    "import os\n",
    "import astropy.units as u"
   ]
  },
  {
   "cell_type": "code",
   "execution_count": null,
   "id": "26c97bd9",
   "metadata": {},
   "outputs": [],
   "source": [
    "# Key Varibles\n",
    "\n",
    "resultsFolder = 'Results/'\n",
    "saveName = '.Mag2.npz'\n",
    "compName = '.Mag.npz'"
   ]
  },
  {
   "cell_type": "code",
   "execution_count": null,
   "id": "17116c15",
   "metadata": {},
   "outputs": [],
   "source": [
    "# Key Functions\n",
    "def rollingAvg(dates,values,window):\n",
    "    \n",
    "    # Cut window in half\n",
    "    halfWindow = window/2\n",
    "    \n",
    "    avgValues = np.empty(len(values)); avgValues[:] = np.nan\n",
    "    stdValues = np.empty(len(values)); stdValues[:] = np.nan\n",
    "    \n",
    "    # Cycle Through Data\n",
    "    for i in range(len(dates)):\n",
    "        \n",
    "        # Window\n",
    "        minDate = np.max([dates[i] - halfWindow, dates[0]])\n",
    "        maxDate = np.min([dates[i] + halfWindow, dates[-1]])\n",
    "        \n",
    "        # avg\n",
    "        avgValues[i] = np.nanmean(values[(dates>minDate)&(dates<maxDate)])\n",
    "        \n",
    "        # std\n",
    "        stdValues[i] = np.nanstd(values[(dates>minDate)&(dates<maxDate)])\n",
    "        \n",
    "    return avgValues,stdValues"
   ]
  },
  {
   "cell_type": "code",
   "execution_count": null,
   "id": "2de8a338",
   "metadata": {},
   "outputs": [],
   "source": [
    "# Get Data\n",
    "dataset = sorted(glob.glob(resultsFolder + '*' + saveName))"
   ]
  },
  {
   "cell_type": "code",
   "execution_count": null,
   "id": "5e087ca5",
   "metadata": {},
   "outputs": [],
   "source": [
    "# Stack data\n",
    "\n",
    "# Open First .npz file and get list of \"arrays\"\n",
    "data = np.load(dataset[0], allow_pickle=True)\n",
    "lst  = data.files\n",
    "    \n",
    "# Get Data\n",
    "dates   = data[lst[0]]\n",
    "pxAreas = data[lst[1]]\n",
    "MmAreas = data[lst[2]]\n",
    "sMmean  = data[lst[3]]\n",
    "usMmean = data[lst[4]]\n",
    "cMass   = data[lst[5]]\n",
    "\n",
    "# Compaison Data, first .npz file\n",
    "compFile = dataset[0].split(saveName)[0] + compName\n",
    "data     = np.load(compFile, allow_pickle=True)\n",
    "lst      = data.files\n",
    "\n",
    "# Extract Data\n",
    "CompDates   = data[lst[0]]\n",
    "CompPxAreas = data[lst[1]]\n",
    "CompMmAreas = data[lst[2]]\n",
    "CompSMmean  = data[lst[3]]\n",
    "CompUsMmean = data[lst[4]]\n",
    "CompCMass   = data[lst[5]]\n",
    "\n",
    "# remaining cases\n",
    "for i in range(1,len(dataset)):\n",
    "    \n",
    "    # Open .npz file and get list of \"arrays\"\n",
    "    data = np.load(dataset[i], allow_pickle=True)\n",
    "    lst  = data.files\n",
    "    \n",
    "    # Get Data\n",
    "    newDates   = data[lst[0]]\n",
    "    newPxAreas = data[lst[1]]\n",
    "    newMmAreas = data[lst[2]]\n",
    "    newSMmean  = data[lst[3]]\n",
    "    newUsMmean = data[lst[4]]\n",
    "    newCMass   = data[lst[5]]\n",
    "    \n",
    "    # Combine Data, Preveting Doubles\n",
    "    for j in range(len(newDates)):\n",
    "        if newDates[j] != dates[-1]:\n",
    "            dates   = np.hstack([dates,   newDates[j:]])\n",
    "            pxAreas = np.hstack([pxAreas, newPxAreas[j:]])\n",
    "            MmAreas = np.hstack([MmAreas, newMmAreas[j:]])\n",
    "            sMmean  = np.hstack([sMmean,  newSMmean[j:]])\n",
    "            usMmean = np.hstack([usMmean, newUsMmean[j:]])\n",
    "            cMass   = np.hstack([cMass,   newCMass[j:]])\n",
    "            break\n",
    "        \n",
    "    # Compaison Data, .npz file\n",
    "    compFile = dataset[i].split(saveName)[0] + compName\n",
    "    data     = np.load(compFile, allow_pickle=True)\n",
    "    lst      = data.files\n",
    "    \n",
    "    # Get Data\n",
    "    newCompDates   = data[lst[0]]\n",
    "    newCompPxAreas = data[lst[1]]\n",
    "    newCompMmAreas = data[lst[2]]\n",
    "    newCompSMmean  = data[lst[3]]\n",
    "    newCompUsMmean = data[lst[4]]\n",
    "    newCompCMass   = data[lst[5]]\n",
    "    \n",
    "    # Combine Data, Preveting Doubles\n",
    "    for j in range(len(newCompDates)):\n",
    "        if newDates[j] != dates[-1]:\n",
    "            CompDates   = np.hstack([CompDates,   newCompDates[j:]])\n",
    "            CompPxAreas = np.hstack([CompPxAreas, newCompPxAreas[j:]])\n",
    "            CompMmAreas = np.hstack([CompMmAreas, newCompMmAreas[j:]])\n",
    "            CompSMmean  = np.hstack([CompSMmean,  newCompSMmean[j:]])\n",
    "            CompUsMmean = np.hstack([CompUsMmean, newCompUsMmean[j:]])\n",
    "            CompCMass   = np.hstack([CompCMass,   newCompCMass[j:]])\n",
    "            break"
   ]
  },
  {
   "cell_type": "code",
   "execution_count": null,
   "id": "74bf39e0",
   "metadata": {},
   "outputs": [],
   "source": [
    "print(np.sum(np.isnan(CompSMmean)))\n",
    "print(np.sum(np.isnan(sMmean)))"
   ]
  },
  {
   "cell_type": "code",
   "execution_count": null,
   "id": "8a2e7f2a",
   "metadata": {},
   "outputs": [],
   "source": [
    "maxC = np.empty(len(cMass)); maxC[:] = np.nan\n",
    "for i in range(len(maxC)):\n",
    "    maxC[i] = np.max([np.abs(cMass[i].Tx/u.arcsec),np.abs(cMass[i].Ty/u.arcsec)])\n",
    "    \n",
    "maxCompC = np.empty(len(CompCMass)); maxCompC[:] = np.nan\n",
    "for i in range(len(maxCompC)):\n",
    "    maxCompC[i] = np.max([np.abs(CompCMass[i].Tx/u.arcsec),np.abs(CompCMass[i].Ty/u.arcsec)])"
   ]
  },
  {
   "cell_type": "code",
   "execution_count": null,
   "id": "8c531669",
   "metadata": {},
   "outputs": [],
   "source": [
    "# Sanity Check\n",
    "print(CompCMass[0])\n",
    "print(cMass[0])"
   ]
  },
  {
   "cell_type": "code",
   "execution_count": null,
   "id": "9d052f3b",
   "metadata": {
    "scrolled": false
   },
   "outputs": [],
   "source": [
    "# Projection-corrected Mean Magnetic Field Density\n",
    "plt.figure(figsize=[5,1.7],dpi=300)\n",
    "plt.rcParams.update({'font.size': 6})\n",
    "plt.scatter(dates[maxC<=500],abs(sMmean[maxC<=500]),0.6,label='Aligning HMI')\n",
    "plt.scatter(CompDates[maxCompC<=500],abs(CompSMmean[maxCompC<=500]),0.4,marker='+',label='Aligning Segmentation')\n",
    "plt.title(r'$|\\bar{B}|$ of individual CHs within $\\pm500^{\\prime\\prime}$')\n",
    "plt.xlabel('Date')\n",
    "plt.ylabel(r'$|\\bar{B}|$ (G)')\n",
    "plt.legend()\n",
    "plt.grid()\n",
    "plt.show()"
   ]
  },
  {
   "cell_type": "code",
   "execution_count": null,
   "id": "611f0caf",
   "metadata": {},
   "outputs": [],
   "source": [
    "# Projection-corrected Mean Magnetic Field Density - Zoom In\n",
    "plt.figure(figsize=[5,1.7],dpi=300)\n",
    "plt.rcParams.update({'font.size': 6})\n",
    "plt.scatter(dates[maxC<=500],abs(sMmean[maxC<=500]),0.6)\n",
    "plt.scatter(CompDates[maxCompC<=500],abs(CompSMmean[maxCompC<=500]),0.4,marker='+')\n",
    "plt.ylim(-0.5,15.5)\n",
    "plt.title(r'$|\\bar{B}|$ of individual CHs within $\\pm500^{\\prime\\prime}$')\n",
    "plt.xlabel('Date')\n",
    "plt.ylabel(r'$|\\bar{B}|$ (G)')\n",
    "plt.grid()\n",
    "plt.show()"
   ]
  },
  {
   "cell_type": "code",
   "execution_count": null,
   "id": "c78acd2d",
   "metadata": {},
   "outputs": [],
   "source": [
    "print('Aligning HMI:')\n",
    "print('Mean absolute Magnetic Field Density in 500\\\" range:',\n",
    "      np.nanmean(abs(CompSMmean[maxCompC<=500])), '±',\n",
    "      np.nanstd(abs(CompSMmean[maxCompC<=500])), 'G' )\n",
    "\n",
    "print('\\nAligning Segmentation:')\n",
    "print('Mean absolute Magnetic Field Density in 500\\\" range:',\n",
    "      np.nanmean(abs(sMmean[maxC<=500])), '±',\n",
    "      np.nanstd(abs(sMmean[maxC<=500])), 'G' )"
   ]
  },
  {
   "cell_type": "code",
   "execution_count": null,
   "id": "026c10b7",
   "metadata": {
    "scrolled": false
   },
   "outputs": [],
   "source": [
    "# Rolling Avg\n",
    "plt.figure(figsize=[5,1.7],dpi=300)\n",
    "plt.rcParams.update({'font.size': 6})\n",
    "plt.scatter(dates,MmAreas,0.6)\n",
    "plt.scatter(CompDates,CompMmAreas,0.4,marker='+')\n",
    "plt.title('Area in Mm of Individual CHs')\n",
    "plt.xlabel('Date')\n",
    "plt.ylabel(r'CH Area (Mm$^2$)')\n",
    "plt.grid()\n",
    "plt.show()"
   ]
  },
  {
   "cell_type": "code",
   "execution_count": null,
   "id": "f77fc786",
   "metadata": {},
   "outputs": [],
   "source": [
    "print('Aligning HMI:')\n",
    "print('Mean area of all CHs:',\n",
    "      np.nanmean(CompMmAreas), '±',\n",
    "      np.nanstd(CompMmAreas), 'Mm2' )\n",
    "print('Median Area of all CHs:',\n",
    "      np.nanmedian(CompMmAreas), 'Mm2')\n",
    "\n",
    "print('\\nAligning Segmentation:')\n",
    "print('Mean area of all CHs:',\n",
    "      np.nanmean(MmAreas), '±',\n",
    "      np.nanstd(MmAreas), 'Mm2' )\n",
    "print('Median Area of all CHs:',\n",
    "      np.nanmedian(MmAreas), 'Mm2')"
   ]
  },
  {
   "cell_type": "code",
   "execution_count": null,
   "id": "c2976a7d",
   "metadata": {
    "scrolled": false
   },
   "outputs": [],
   "source": [
    "# Number of CHs\n",
    "dts,Counts = np.unique(dates,return_counts=True)\n",
    "compDts,compCounts = np.unique(CompDates,return_counts=True)\n",
    "\n",
    "plt.figure(figsize=[5,5],dpi=300)\n",
    "plt.rcParams.update({'font.size': 6})\n",
    "plt.bar(compDts,compCounts,color=[0,0,1],label='Align HMI')\n",
    "plt.bar(dts,Counts,color=[1,0,0,.5],label='Align Segmentation')\n",
    "plt.title('Number of individual CHs')\n",
    "plt.xlabel('Observation, organized by Date')\n",
    "plt.ylabel('Number of CHs')\n",
    "plt.legend()\n",
    "plt.grid()\n",
    "plt.show()"
   ]
  },
  {
   "cell_type": "code",
   "execution_count": null,
   "id": "ce0002d6",
   "metadata": {
    "scrolled": false
   },
   "outputs": [],
   "source": [
    "plt.figure(figsize=[5,1.7],dpi=300)\n",
    "plt.rcParams.update({'font.size': 6})\n",
    "plt.scatter(dates[maxC<=500],MmAreas[maxC<=500],0.6)\n",
    "plt.scatter(CompDates[maxCompC<=500],CompMmAreas[maxCompC<=500],0.4,marker='+')\n",
    "plt.title(r'Area of Individual CHs within $\\pm500^{\\prime\\prime}$')\n",
    "plt.xlabel('Date')\n",
    "plt.ylabel(r'CH Area (Mm$^2$)')\n",
    "plt.grid()\n",
    "plt.show()"
   ]
  }
 ],
 "metadata": {
  "kernelspec": {
   "display_name": "Python 3 (ipykernel)",
   "language": "python",
   "name": "python3"
  },
  "language_info": {
   "codemirror_mode": {
    "name": "ipython",
    "version": 3
   },
   "file_extension": ".py",
   "mimetype": "text/x-python",
   "name": "python",
   "nbconvert_exporter": "python",
   "pygments_lexer": "ipython3",
   "version": "3.10.10"
  }
 },
 "nbformat": 4,
 "nbformat_minor": 5
}
